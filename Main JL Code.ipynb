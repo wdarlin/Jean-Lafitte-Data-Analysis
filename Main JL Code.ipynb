{
 "cells": [
  {
   "cell_type": "markdown",
   "id": "6b142070",
   "metadata": {},
   "source": [
    "# Jean Lafitte Data Management \n",
    "### Check section title for proper use of code"
   ]
  },
  {
   "cell_type": "markdown",
   "id": "c5aa3717",
   "metadata": {},
   "source": [
    "#### Package Import"
   ]
  },
  {
   "cell_type": "code",
   "execution_count": null,
   "id": "88923a1c",
   "metadata": {},
   "outputs": [],
   "source": [
    "import numpy as np\n",
    "import pandas as pd\n",
    "import matplotlib.pyplot as plt\n",
    "from matplotlib import dates as mpl_dates\n",
    "import os\n",
    "import glob"
   ]
  },
  {
   "cell_type": "code",
   "execution_count": null,
   "id": "792d9525",
   "metadata": {},
   "outputs": [],
   "source": []
  },
  {
   "cell_type": "markdown",
   "id": "af548626",
   "metadata": {},
   "source": [
    "#### Basic Grouping for Single Well"
   ]
  },
  {
   "cell_type": "code",
   "execution_count": null,
   "id": "ac75ac9a",
   "metadata": {},
   "outputs": [],
   "source": [
    "df = pd.read_csv('filename', encoding = 'unicode_escape', low_memory=False)\n",
    "df.columns = df.columns.map(lambda x: x.strip())\n",
    "df['DateandTime'] = pd.to_datetime(df['DateandTime'])\n",
    "df = df.groupby(['DateandTime','Well_ID'], as_index=False)['level(surface)'].mean()\n",
    "df = df.set_index('DateandTime')\n",
    "#df = df.loc['01/01/2014':'12/31/2020']\n",
    "df = df.groupby([pd.Grouper(freq=\"H\"),'Well_ID'])['level(surface)'].mean().reset_index()\n",
    "#df.to_csv ('ChosenWellCombined.csv', mode= 'a',index = False)\n",
    "print(df[0:3])"
   ]
  },
  {
   "cell_type": "code",
   "execution_count": null,
   "id": "b6fee94e",
   "metadata": {},
   "outputs": [],
   "source": []
  },
  {
   "cell_type": "markdown",
   "id": "d7b19328",
   "metadata": {},
   "source": [
    "#### Use to get count of days per month with water levels over 0"
   ]
  },
  {
   "cell_type": "code",
   "execution_count": null,
   "id": "cdf6ca80",
   "metadata": {},
   "outputs": [],
   "source": [
    "for filepath in glob.iglob(\"C:\\\\Users\\\\Wally\\\\Documents\\\\JL_WELLS\\\\NEW_ITERATIONS22\\*.csv\"):\n",
    "    print(filepath)\n",
    "    df = pd.read_csv(filepath, encoding = 'unicode_escape', low_memory=False)\n",
    "    df.columns = df.columns.map(lambda x: x.strip())\n",
    "    df['DateandTime'] = pd.to_datetime(df['DateandTime'])\n",
    "    df = df.groupby(['DateandTime','Well_ID'], as_index=False)['level(surface)'].mean()\n",
    "    df = df.set_index('DateandTime')\n",
    "    #df = df.loc['01/01/2016':'12/31/2016']\n",
    "    df = df.groupby([pd.Grouper(freq=\"M\"),'Well_ID'])['level(surface)'].agg(['mean','min','max', (lambda x: (x > 0).sum()/24)]).reset_index()\n",
    "    df.to_csv ('New2022Data_countWETdays.csv', mode= 'a', index = False)\n",
    "    print(df)"
   ]
  },
  {
   "cell_type": "code",
   "execution_count": null,
   "id": "081c2eff",
   "metadata": {},
   "outputs": [],
   "source": []
  },
  {
   "cell_type": "markdown",
   "id": "0f85eb5e",
   "metadata": {},
   "source": [
    "#### Get local Min & Max values for drain rate based on 12hr scale"
   ]
  },
  {
   "cell_type": "code",
   "execution_count": null,
   "id": "f0331cd2",
   "metadata": {},
   "outputs": [],
   "source": [
    "for filepath in glob.iglob(\"C:\\\\Users\\\\Wally\\\\Documents\\\\JL_WELLS\\\\NEW_ITERATIONS22\\*.csv\"):\n",
    "    print(filepath)\n",
    "    df = pd.read_csv(filepath, encoding = 'unicode_escape', low_memory=False)\n",
    "    df.columns = df.columns.map(lambda x: x.strip())\n",
    "    df['DateandTime'] = pd.to_datetime(df['DateandTime'])\n",
    "    df = df.groupby(['DateandTime','Well_ID'], as_index=False)['level(surface)'].mean()\n",
    "    df = df.set_index('DateandTime')\n",
    "    #df = df.loc['01/01/2016':'12/31/2020']\n",
    "    df = df.groupby([pd.Grouper(freq=\"12H\"),'Well_ID'])['level(surface)'].mean().reset_index()\n",
    "    df.rename(columns ={'level(surface)':'level'}, inplace = True)\n",
    "    #df.to_csv ('countWETdaysWELL28.csv', mode= 'a', index = False)\n",
    "    print(df[0:2])\n",
    "    \n",
    "\n",
    "      #Find local peaks\n",
    "    df['min'] = df.level[(df.level.shift(1) > df.level) & (df.level.shift(-1) > df.level)]\n",
    "    df['max'] = df.level[(df.level.shift(1) < df.level) & (df.level.shift(-1) < df.level)]\n",
    "    df.to_csv ('16-20allDrainRate.csv', mode= 'a', index = False)\n",
    "    print (df[0:1])\n",
    "    \n",
    " # Plot results\n",
    "plt.scatter(df.index, df['min'], c='r')\n",
    "plt.scatter(df.index, df['max'], c='g')\n",
    "df.level.plot()"
   ]
  },
  {
   "cell_type": "code",
   "execution_count": null,
   "id": "a9ac2422",
   "metadata": {},
   "outputs": [],
   "source": []
  },
  {
   "cell_type": "code",
   "execution_count": null,
   "id": "38cede04",
   "metadata": {},
   "outputs": [],
   "source": []
  },
  {
   "cell_type": "code",
   "execution_count": null,
   "id": "e22b276a",
   "metadata": {},
   "outputs": [],
   "source": []
  },
  {
   "cell_type": "code",
   "execution_count": null,
   "id": "78d0d65b",
   "metadata": {},
   "outputs": [],
   "source": []
  },
  {
   "cell_type": "code",
   "execution_count": null,
   "id": "0888900b",
   "metadata": {},
   "outputs": [],
   "source": []
  },
  {
   "cell_type": "code",
   "execution_count": null,
   "id": "1879bc65",
   "metadata": {},
   "outputs": [],
   "source": []
  },
  {
   "cell_type": "code",
   "execution_count": null,
   "id": "ff6456e5",
   "metadata": {},
   "outputs": [],
   "source": []
  },
  {
   "cell_type": "code",
   "execution_count": null,
   "id": "3978402b",
   "metadata": {},
   "outputs": [],
   "source": []
  },
  {
   "cell_type": "code",
   "execution_count": null,
   "id": "bf31c6a4",
   "metadata": {},
   "outputs": [],
   "source": []
  }
 ],
 "metadata": {
  "kernelspec": {
   "display_name": "Python 3 (ipykernel)",
   "language": "python",
   "name": "python3"
  },
  "language_info": {
   "codemirror_mode": {
    "name": "ipython",
    "version": 3
   },
   "file_extension": ".py",
   "mimetype": "text/x-python",
   "name": "python",
   "nbconvert_exporter": "python",
   "pygments_lexer": "ipython3",
   "version": "3.9.7"
  }
 },
 "nbformat": 4,
 "nbformat_minor": 5
}
